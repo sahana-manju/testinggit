{
 "cells": [
  {
   "cell_type": "markdown",
   "id": "be01334f",
   "metadata": {
    "papermill": {
     "duration": 0.035284,
     "end_time": "2022-07-27T13:56:08.582636",
     "exception": false,
     "start_time": "2022-07-27T13:56:08.547352",
     "status": "completed"
    },
    "tags": []
   },
   "source": [
    "# **Prediction of Pulmonary Fibrosis Progression Using Convolutional Neural Networks (CNN)**"
   ]
  },
  {
   "cell_type": "markdown",
   "id": "fb2d3244",
   "metadata": {
    "papermill": {
     "duration": 0.03788,
     "end_time": "2022-07-27T13:56:08.657639",
     "exception": false,
     "start_time": "2022-07-27T13:56:08.619759",
     "status": "completed"
    },
    "tags": []
   },
   "source": [
    "<font size=\"5\">**Importing necessary libraries**</font>"
   ]
  },
  {
   "cell_type": "markdown",
   "id": "ec10520a",
   "metadata": {
    "papermill": {
     "duration": 0.051143,
     "end_time": "2022-07-27T13:56:08.743307",
     "exception": false,
     "start_time": "2022-07-27T13:56:08.692164",
     "status": "completed"
    },
    "tags": []
   },
   "source": [
    "# **Prediction of Pulmonary Fibrosis Progression using Convolutional Neural Networks(CNN)**"
   ]
  },
  {
   "cell_type": "markdown",
   "id": "dd8784ed",
   "metadata": {
    "papermill": {
     "duration": 0.034521,
     "end_time": "2022-07-27T13:56:08.834747",
     "exception": false,
     "start_time": "2022-07-27T13:56:08.800226",
     "status": "completed"
    },
    "tags": []
   },
   "source": [
    "<font size='5'>**Importing necessary libraries**</font>"
   ]
  },
  {
   "cell_type": "code",
   "execution_count": 1,
   "id": "6bb71067",
   "metadata": {
    "execution": {
     "iopub.execute_input": "2022-07-27T13:56:08.915681Z",
     "iopub.status.busy": "2022-07-27T13:56:08.914901Z",
     "iopub.status.idle": "2022-07-27T13:56:14.329647Z",
     "shell.execute_reply": "2022-07-27T13:56:14.329018Z",
     "shell.execute_reply.started": "2022-07-27T12:32:39.324492Z"
    },
    "papermill": {
     "duration": 5.461322,
     "end_time": "2022-07-27T13:56:14.329805",
     "exception": false,
     "start_time": "2022-07-27T13:56:08.868483",
     "status": "completed"
    },
    "tags": []
   },
   "outputs": [],
   "source": [
    "import os\n",
    "from os import listdir\n",
    "\n",
    "import pandas as pd\n",
    "import numpy as np\n",
    "import matplotlib.pyplot as plt\n",
    "%matplotlib inline\n",
    "\n",
    "import pydicom\n",
    "from PIL import Image\n",
    "\n",
    "import tensorflow as tf\n",
    "import tensorflow.keras.backend as K\n",
    "import tensorflow.keras.layers as Layer\n",
    "import tensorflow.keras.models as Model"
   ]
  },
  {
   "cell_type": "markdown",
   "id": "401029e2",
   "metadata": {
    "papermill": {
     "duration": 0.034025,
     "end_time": "2022-07-27T13:56:14.397746",
     "exception": false,
     "start_time": "2022-07-27T13:56:14.363721",
     "status": "completed"
    },
    "tags": []
   },
   "source": [
    "<font size=\"5\">**Loading Datasets**</font>"
   ]
  },
  {
   "cell_type": "markdown",
   "id": "32992884",
   "metadata": {
    "papermill": {
     "duration": 0.032908,
     "end_time": "2022-07-27T13:56:14.464746",
     "exception": false,
     "start_time": "2022-07-27T13:56:14.431838",
     "status": "completed"
    },
    "tags": []
   },
   "source": [
    "<font size='3'>Dataset Details\n",
    "* train.csv - the training set, contains full history of clinical information\n",
    "* test.csv - the test set, contains only the baseline measurement\n",
    "* train/ - contains the training patients' baseline CT scan in DICOM format\n",
    "* test/ - contains the test patients' baseline CT scan in DICOM format</font>"
   ]
  },
  {
   "cell_type": "markdown",
   "id": "230daf44",
   "metadata": {
    "papermill": {
     "duration": 0.033005,
     "end_time": "2022-07-27T13:56:14.530895",
     "exception": false,
     "start_time": "2022-07-27T13:56:14.497890",
     "status": "completed"
    },
    "tags": []
   },
   "source": [
    "<font size='4'>**Loading patient clinical information from train.csv and test.csv**</font>"
   ]
  },
  {
   "cell_type": "code",
   "execution_count": 2,
   "id": "7a3254b3",
   "metadata": {
    "execution": {
     "iopub.execute_input": "2022-07-27T13:56:14.603061Z",
     "iopub.status.busy": "2022-07-27T13:56:14.602411Z",
     "iopub.status.idle": "2022-07-27T13:56:14.627164Z",
     "shell.execute_reply": "2022-07-27T13:56:14.626705Z",
     "shell.execute_reply.started": "2022-07-27T12:32:43.352027Z"
    },
    "papermill": {
     "duration": 0.063281,
     "end_time": "2022-07-27T13:56:14.627268",
     "exception": false,
     "start_time": "2022-07-27T13:56:14.563987",
     "status": "completed"
    },
    "tags": []
   },
   "outputs": [],
   "source": [
    "Path = \"../input/osic-pulmonary-fibrosis-progression\"\n",
    "train_data= pd.read_csv(f\"{Path}/train.csv\")\n",
    "test_data=pd.read_csv(f\"{Path}/test.csv\")"
   ]
  },
  {
   "cell_type": "code",
   "execution_count": 3,
   "id": "52380e19",
   "metadata": {
    "execution": {
     "iopub.execute_input": "2022-07-27T13:56:14.699834Z",
     "iopub.status.busy": "2022-07-27T13:56:14.699235Z",
     "iopub.status.idle": "2022-07-27T13:56:14.702289Z",
     "shell.execute_reply": "2022-07-27T13:56:14.702878Z",
     "shell.execute_reply.started": "2022-07-27T12:32:45.858369Z"
    },
    "papermill": {
     "duration": 0.04191,
     "end_time": "2022-07-27T13:56:14.703046",
     "exception": false,
     "start_time": "2022-07-27T13:56:14.661136",
     "status": "completed"
    },
    "tags": []
   },
   "outputs": [
    {
     "name": "stdout",
     "output_type": "stream",
     "text": [
      "Shape of Train data (1549, 7)\n",
      "Shape of Test data (5, 7)\n"
     ]
    }
   ],
   "source": [
    "print('Shape of Train data',train_data.shape)\n",
    "print('Shape of Test data',test_data.shape)"
   ]
  },
  {
   "cell_type": "code",
   "execution_count": 4,
   "id": "4810b1d0",
   "metadata": {
    "execution": {
     "iopub.execute_input": "2022-07-27T13:56:14.783923Z",
     "iopub.status.busy": "2022-07-27T13:56:14.783242Z",
     "iopub.status.idle": "2022-07-27T13:56:14.795658Z",
     "shell.execute_reply": "2022-07-27T13:56:14.795206Z",
     "shell.execute_reply.started": "2022-07-27T12:32:48.528710Z"
    },
    "papermill": {
     "duration": 0.056902,
     "end_time": "2022-07-27T13:56:14.795768",
     "exception": false,
     "start_time": "2022-07-27T13:56:14.738866",
     "status": "completed"
    },
    "tags": []
   },
   "outputs": [
    {
     "data": {
      "text/html": [
       "<div>\n",
       "<style scoped>\n",
       "    .dataframe tbody tr th:only-of-type {\n",
       "        vertical-align: middle;\n",
       "    }\n",
       "\n",
       "    .dataframe tbody tr th {\n",
       "        vertical-align: top;\n",
       "    }\n",
       "\n",
       "    .dataframe thead th {\n",
       "        text-align: right;\n",
       "    }\n",
       "</style>\n",
       "<table border=\"1\" class=\"dataframe\">\n",
       "  <thead>\n",
       "    <tr style=\"text-align: right;\">\n",
       "      <th></th>\n",
       "      <th>Patient</th>\n",
       "      <th>Weeks</th>\n",
       "      <th>FVC</th>\n",
       "      <th>Percent</th>\n",
       "      <th>Age</th>\n",
       "      <th>Sex</th>\n",
       "      <th>SmokingStatus</th>\n",
       "    </tr>\n",
       "  </thead>\n",
       "  <tbody>\n",
       "    <tr>\n",
       "      <th>0</th>\n",
       "      <td>ID00007637202177411956430</td>\n",
       "      <td>-4</td>\n",
       "      <td>2315</td>\n",
       "      <td>58.253649</td>\n",
       "      <td>79</td>\n",
       "      <td>Male</td>\n",
       "      <td>Ex-smoker</td>\n",
       "    </tr>\n",
       "    <tr>\n",
       "      <th>1</th>\n",
       "      <td>ID00007637202177411956430</td>\n",
       "      <td>5</td>\n",
       "      <td>2214</td>\n",
       "      <td>55.712129</td>\n",
       "      <td>79</td>\n",
       "      <td>Male</td>\n",
       "      <td>Ex-smoker</td>\n",
       "    </tr>\n",
       "    <tr>\n",
       "      <th>2</th>\n",
       "      <td>ID00007637202177411956430</td>\n",
       "      <td>7</td>\n",
       "      <td>2061</td>\n",
       "      <td>51.862104</td>\n",
       "      <td>79</td>\n",
       "      <td>Male</td>\n",
       "      <td>Ex-smoker</td>\n",
       "    </tr>\n",
       "    <tr>\n",
       "      <th>3</th>\n",
       "      <td>ID00007637202177411956430</td>\n",
       "      <td>9</td>\n",
       "      <td>2144</td>\n",
       "      <td>53.950679</td>\n",
       "      <td>79</td>\n",
       "      <td>Male</td>\n",
       "      <td>Ex-smoker</td>\n",
       "    </tr>\n",
       "    <tr>\n",
       "      <th>4</th>\n",
       "      <td>ID00007637202177411956430</td>\n",
       "      <td>11</td>\n",
       "      <td>2069</td>\n",
       "      <td>52.063412</td>\n",
       "      <td>79</td>\n",
       "      <td>Male</td>\n",
       "      <td>Ex-smoker</td>\n",
       "    </tr>\n",
       "  </tbody>\n",
       "</table>\n",
       "</div>"
      ],
      "text/plain": [
       "                     Patient  Weeks   FVC    Percent  Age   Sex SmokingStatus\n",
       "0  ID00007637202177411956430     -4  2315  58.253649   79  Male     Ex-smoker\n",
       "1  ID00007637202177411956430      5  2214  55.712129   79  Male     Ex-smoker\n",
       "2  ID00007637202177411956430      7  2061  51.862104   79  Male     Ex-smoker\n",
       "3  ID00007637202177411956430      9  2144  53.950679   79  Male     Ex-smoker\n",
       "4  ID00007637202177411956430     11  2069  52.063412   79  Male     Ex-smoker"
      ]
     },
     "execution_count": 4,
     "metadata": {},
     "output_type": "execute_result"
    }
   ],
   "source": [
    "train_data.head()"
   ]
  },
  {
   "cell_type": "code",
   "execution_count": 5,
   "id": "42497529",
   "metadata": {
    "execution": {
     "iopub.execute_input": "2022-07-27T13:56:14.876536Z",
     "iopub.status.busy": "2022-07-27T13:56:14.875790Z",
     "iopub.status.idle": "2022-07-27T13:56:14.878579Z",
     "shell.execute_reply": "2022-07-27T13:56:14.879013Z",
     "shell.execute_reply.started": "2022-07-27T12:32:51.257748Z"
    },
    "papermill": {
     "duration": 0.047494,
     "end_time": "2022-07-27T13:56:14.879131",
     "exception": false,
     "start_time": "2022-07-27T13:56:14.831637",
     "status": "completed"
    },
    "tags": []
   },
   "outputs": [
    {
     "data": {
      "text/html": [
       "<div>\n",
       "<style scoped>\n",
       "    .dataframe tbody tr th:only-of-type {\n",
       "        vertical-align: middle;\n",
       "    }\n",
       "\n",
       "    .dataframe tbody tr th {\n",
       "        vertical-align: top;\n",
       "    }\n",
       "\n",
       "    .dataframe thead th {\n",
       "        text-align: right;\n",
       "    }\n",
       "</style>\n",
       "<table border=\"1\" class=\"dataframe\">\n",
       "  <thead>\n",
       "    <tr style=\"text-align: right;\">\n",
       "      <th></th>\n",
       "      <th>Patient</th>\n",
       "      <th>Weeks</th>\n",
       "      <th>FVC</th>\n",
       "      <th>Percent</th>\n",
       "      <th>Age</th>\n",
       "      <th>Sex</th>\n",
       "      <th>SmokingStatus</th>\n",
       "    </tr>\n",
       "  </thead>\n",
       "  <tbody>\n",
       "    <tr>\n",
       "      <th>0</th>\n",
       "      <td>ID00419637202311204720264</td>\n",
       "      <td>6</td>\n",
       "      <td>3020</td>\n",
       "      <td>70.186855</td>\n",
       "      <td>73</td>\n",
       "      <td>Male</td>\n",
       "      <td>Ex-smoker</td>\n",
       "    </tr>\n",
       "    <tr>\n",
       "      <th>1</th>\n",
       "      <td>ID00421637202311550012437</td>\n",
       "      <td>15</td>\n",
       "      <td>2739</td>\n",
       "      <td>82.045291</td>\n",
       "      <td>68</td>\n",
       "      <td>Male</td>\n",
       "      <td>Ex-smoker</td>\n",
       "    </tr>\n",
       "    <tr>\n",
       "      <th>2</th>\n",
       "      <td>ID00422637202311677017371</td>\n",
       "      <td>6</td>\n",
       "      <td>1930</td>\n",
       "      <td>76.672493</td>\n",
       "      <td>73</td>\n",
       "      <td>Male</td>\n",
       "      <td>Ex-smoker</td>\n",
       "    </tr>\n",
       "    <tr>\n",
       "      <th>3</th>\n",
       "      <td>ID00423637202312137826377</td>\n",
       "      <td>17</td>\n",
       "      <td>3294</td>\n",
       "      <td>79.258903</td>\n",
       "      <td>72</td>\n",
       "      <td>Male</td>\n",
       "      <td>Ex-smoker</td>\n",
       "    </tr>\n",
       "    <tr>\n",
       "      <th>4</th>\n",
       "      <td>ID00426637202313170790466</td>\n",
       "      <td>0</td>\n",
       "      <td>2925</td>\n",
       "      <td>71.824968</td>\n",
       "      <td>73</td>\n",
       "      <td>Male</td>\n",
       "      <td>Never smoked</td>\n",
       "    </tr>\n",
       "  </tbody>\n",
       "</table>\n",
       "</div>"
      ],
      "text/plain": [
       "                     Patient  Weeks   FVC    Percent  Age   Sex SmokingStatus\n",
       "0  ID00419637202311204720264      6  3020  70.186855   73  Male     Ex-smoker\n",
       "1  ID00421637202311550012437     15  2739  82.045291   68  Male     Ex-smoker\n",
       "2  ID00422637202311677017371      6  1930  76.672493   73  Male     Ex-smoker\n",
       "3  ID00423637202312137826377     17  3294  79.258903   72  Male     Ex-smoker\n",
       "4  ID00426637202313170790466      0  2925  71.824968   73  Male  Never smoked"
      ]
     },
     "execution_count": 5,
     "metadata": {},
     "output_type": "execute_result"
    }
   ],
   "source": [
    "test_data.head()"
   ]
  },
  {
   "cell_type": "code",
   "execution_count": 6,
   "id": "9fce5d00",
   "metadata": {
    "execution": {
     "iopub.execute_input": "2022-07-27T13:56:14.958700Z",
     "iopub.status.busy": "2022-07-27T13:56:14.958054Z",
     "iopub.status.idle": "2022-07-27T13:56:14.960503Z",
     "shell.execute_reply": "2022-07-27T13:56:14.960996Z",
     "shell.execute_reply.started": "2022-07-27T12:32:54.273493Z"
    },
    "papermill": {
     "duration": 0.046954,
     "end_time": "2022-07-27T13:56:14.961115",
     "exception": false,
     "start_time": "2022-07-27T13:56:14.914161",
     "status": "completed"
    },
    "tags": []
   },
   "outputs": [
    {
     "data": {
      "text/plain": [
       "array(['Ex-smoker', 'Never smoked', 'Currently smokes'], dtype=object)"
      ]
     },
     "execution_count": 6,
     "metadata": {},
     "output_type": "execute_result"
    }
   ],
   "source": [
    "train_data[\"SmokingStatus\"].unique()"
   ]
  },
  {
   "cell_type": "markdown",
   "id": "d16d0f37",
   "metadata": {
    "papermill": {
     "duration": 0.035168,
     "end_time": "2022-07-27T13:56:15.031029",
     "exception": false,
     "start_time": "2022-07-27T13:56:14.995861",
     "status": "completed"
    },
    "tags": []
   },
   "source": [
    "Columns Details in train.csv and test.csv\n",
    "* Patient - a unique Id for each patient (also the name of the patient's DICOM folder)\n",
    "* Weeks - the relative number of weeks pre/post the baseline CT (may be negative)\n",
    "* FVC - the recorded lung capacity in ml\n",
    "* Percent - a computed field which approximates the patient's FVC as a percent of the typical FVC for a person of similar characteristics\n",
    "* Age - Age of the patient\n",
    "* Sex - Gender of the patient\n",
    "* SmokingStatus - Smoking Status of the patient (i.e Ex-Smoker,Never smoked,Currently smokes)"
   ]
  },
  {
   "cell_type": "markdown",
   "id": "9bff6cc0",
   "metadata": {
    "papermill": {
     "duration": 0.034546,
     "end_time": "2022-07-27T13:56:15.101221",
     "exception": false,
     "start_time": "2022-07-27T13:56:15.066675",
     "status": "completed"
    },
    "tags": []
   },
   "source": [
    "<font size='4'>**Loading patient's CT Scan images from train folder**</font>"
   ]
  },
  {
   "cell_type": "markdown",
   "id": "6d67b775",
   "metadata": {
    "papermill": {
     "duration": 0.034379,
     "end_time": "2022-07-27T13:56:15.170493",
     "exception": false,
     "start_time": "2022-07-27T13:56:15.136114",
     "status": "completed"
    },
    "tags": []
   },
   "source": [
    "<font size='4'>**We are provided with baseline chest CT Scan images of each patient at a weeks intervals**</font>     \n",
    "<font size='4'>**Digital Imaging and COmmunications in Medicine - DICOM**</font>\n",
    "\n",
    "<font size='3'>DICOM(Digital Imaging and COmmunications in Medicine) is the de-facto standard that establishes rules that allow medical images(X-Ray, MRI, CT) and associated information to be exchanged between imaging equipment from different vendors, computers, and hospitals.</font>\n",
    "\n",
    "<font size='3'>DICOM files typically have a .dcm extension and provides a means of storing data in separate 'tags' such as patient information as well as image/pixel data. A DICOM file consists of a header and image data sets packed into a single file. The information within the header is organized as a constant and standardized series of tags.</font>\n",
    "\n",
    "<font size='3'>By extracting data from these tags one can access important information regarding the patient demographics, study parameters, etc.</font>\n",
    "\n",
    "<font size='4'>**Pydicom**</font>\n",
    "\n",
    "<font size='3'>Pydicom is a python package for parsing DICOM files and makes it easy to covert DICOM files into pythonic structures for easier manipulation. Files are opened using pydicom.dcmread</font>"
   ]
  },
  {
   "cell_type": "code",
   "execution_count": 7,
   "id": "c9d90b12",
   "metadata": {
    "execution": {
     "iopub.execute_input": "2022-07-27T13:56:15.244616Z",
     "iopub.status.busy": "2022-07-27T13:56:15.243946Z",
     "iopub.status.idle": "2022-07-27T13:56:15.246001Z",
     "shell.execute_reply": "2022-07-27T13:56:15.246443Z",
     "shell.execute_reply.started": "2022-07-27T12:32:58.944662Z"
    },
    "papermill": {
     "duration": 0.040885,
     "end_time": "2022-07-27T13:56:15.246561",
     "exception": false,
     "start_time": "2022-07-27T13:56:15.205676",
     "status": "completed"
    },
    "tags": []
   },
   "outputs": [],
   "source": [
    "#FETCH UNIQUE PATIENT IDs\n",
    "Patient_list=train_data[\"Patient\"].unique()"
   ]
  },
  {
   "cell_type": "code",
   "execution_count": 8,
   "id": "ab977148",
   "metadata": {
    "execution": {
     "iopub.execute_input": "2022-07-27T13:56:15.323613Z",
     "iopub.status.busy": "2022-07-27T13:56:15.323041Z",
     "iopub.status.idle": "2022-07-27T13:56:27.430149Z",
     "shell.execute_reply": "2022-07-27T13:56:27.430572Z",
     "shell.execute_reply.started": "2022-07-27T12:33:03.267089Z"
    },
    "papermill": {
     "duration": 12.148985,
     "end_time": "2022-07-27T13:56:27.430715",
     "exception": false,
     "start_time": "2022-07-27T13:56:15.281730",
     "status": "completed"
    },
    "tags": []
   },
   "outputs": [
    {
     "data": {
      "image/png": "[encoded data removed]",
      "text/plain": [
       "<Figure size 720x720 with 71 Axes>"
      ]
     },
     "metadata": {
      "needs_background": "light"
     },
     "output_type": "display_data"
    }
   ],
   "source": [
    "def getDcms(patient,type):\n",
    "    image_dir = f\"{Path}/{type}/{patient}\"\n",
    "    fig=plt.figure(figsize=(10,10))\n",
    "    image_list = os.listdir(image_dir)#name of the files in the train folder\n",
    "    columns = int(np.sqrt(len(image_list)))#8 \n",
    "    rows = columns+1#9\n",
    "    dcms=[]\n",
    "    for i in range(1, len(image_list) +1):\n",
    "        ds = pydicom.dcmread(image_dir + \"/\" + str(i) + \".dcm\")\n",
    "        dcms.append(ds.pixel_array)\n",
    "        fig.add_subplot(rows,columns,i)\n",
    "        plt.imshow(ds.pixel_array)\n",
    "    return dcms\n",
    "\n",
    "img_list=getDcms(Patient_list[50],\"train\" )#displaying 50th patient ct scans"
   ]
  },
  {
   "cell_type": "markdown",
   "id": "0fd7d87f",
   "metadata": {
    "papermill": {
     "duration": 0.039374,
     "end_time": "2022-07-27T13:56:27.510694",
     "exception": false,
     "start_time": "2022-07-27T13:56:27.471320",
     "status": "completed"
    },
    "tags": []
   },
   "source": [
    "<font size='5'>**Data Preprocessing**</font>"
   ]
  },
  {
   "cell_type": "code",
   "execution_count": 9,
   "id": "2757f245",
   "metadata": {
    "execution": {
     "iopub.execute_input": "2022-07-27T13:56:27.595143Z",
     "iopub.status.busy": "2022-07-27T13:56:27.594361Z",
     "iopub.status.idle": "2022-07-27T13:56:27.599831Z",
     "shell.execute_reply": "2022-07-27T13:56:27.600226Z",
     "shell.execute_reply.started": "2022-07-27T12:33:19.416924Z"
    },
    "papermill": {
     "duration": 0.050239,
     "end_time": "2022-07-27T13:56:27.600348",
     "exception": false,
     "start_time": "2022-07-27T13:56:27.550109",
     "status": "completed"
    },
    "tags": []
   },
   "outputs": [
    {
     "data": {
      "text/plain": [
       "Patient          0\n",
       "Weeks            0\n",
       "FVC              0\n",
       "Percent          0\n",
       "Age              0\n",
       "Sex              0\n",
       "SmokingStatus    0\n",
       "dtype: int64"
      ]
     },
     "execution_count": 9,
     "metadata": {},
     "output_type": "execute_result"
    }
   ],
   "source": [
    "#Check for missing values\n",
    "train_data.isnull().sum()"
   ]
  },
  {
   "cell_type": "code",
   "execution_count": 10,
   "id": "9bffff0b",
   "metadata": {
    "execution": {
     "iopub.execute_input": "2022-07-27T13:56:27.683421Z",
     "iopub.status.busy": "2022-07-27T13:56:27.682620Z",
     "iopub.status.idle": "2022-07-27T13:56:27.691164Z",
     "shell.execute_reply": "2022-07-27T13:56:27.690784Z",
     "shell.execute_reply.started": "2022-07-27T12:33:22.504489Z"
    },
    "papermill": {
     "duration": 0.051613,
     "end_time": "2022-07-27T13:56:27.691263",
     "exception": false,
     "start_time": "2022-07-27T13:56:27.639650",
     "status": "completed"
    },
    "tags": []
   },
   "outputs": [],
   "source": [
    "#Drop records having same Patient ID and week\n",
    "train_data.drop_duplicates(subset=['Patient', 'Weeks'], keep=False, inplace=True)"
   ]
  },
  {
   "cell_type": "code",
   "execution_count": 11,
   "id": "014b9dbb",
   "metadata": {
    "execution": {
     "iopub.execute_input": "2022-07-27T13:56:27.798978Z",
     "iopub.status.busy": "2022-07-27T13:56:27.798242Z",
     "iopub.status.idle": "2022-07-27T13:56:27.801979Z",
     "shell.execute_reply": "2022-07-27T13:56:27.802545Z",
     "shell.execute_reply.started": "2022-07-27T12:33:25.633513Z"
    },
    "papermill": {
     "duration": 0.068878,
     "end_time": "2022-07-27T13:56:27.802705",
     "exception": false,
     "start_time": "2022-07-27T13:56:27.733827",
     "status": "completed"
    },
    "tags": []
   },
   "outputs": [
    {
     "data": {
      "text/plain": [
       "(1535, 7)"
      ]
     },
     "execution_count": 11,
     "metadata": {},
     "output_type": "execute_result"
    }
   ],
   "source": [
    "train_data.shape"
   ]
  },
  {
   "cell_type": "code",
   "execution_count": 12,
   "id": "5910a12e",
   "metadata": {
    "execution": {
     "iopub.execute_input": "2022-07-27T13:56:27.897243Z",
     "iopub.status.busy": "2022-07-27T13:56:27.896330Z",
     "iopub.status.idle": "2022-07-27T13:56:28.098349Z",
     "shell.execute_reply": "2022-07-27T13:56:28.098794Z",
     "shell.execute_reply.started": "2022-07-27T12:57:22.152293Z"
    },
    "papermill": {
     "duration": 0.248515,
     "end_time": "2022-07-27T13:56:28.098926",
     "exception": false,
     "start_time": "2022-07-27T13:56:27.850411",
     "status": "completed"
    },
    "tags": []
   },
   "outputs": [
    {
     "data": {
      "text/html": [
       "<div>\n",
       "<style scoped>\n",
       "    .dataframe tbody tr th:only-of-type {\n",
       "        vertical-align: middle;\n",
       "    }\n",
       "\n",
       "    .dataframe tbody tr th {\n",
       "        vertical-align: top;\n",
       "    }\n",
       "\n",
       "    .dataframe thead th {\n",
       "        text-align: right;\n",
       "    }\n",
       "</style>\n",
       "<table border=\"1\" class=\"dataframe\">\n",
       "  <thead>\n",
       "    <tr style=\"text-align: right;\">\n",
       "      <th></th>\n",
       "      <th>PatientID</th>\n",
       "      <th>BaselineWeek</th>\n",
       "      <th>BaselineFVC</th>\n",
       "      <th>Age</th>\n",
       "      <th>Sex</th>\n",
       "      <th>SmokingStatus</th>\n",
       "      <th>TargetWeek</th>\n",
       "      <th>TargetFVC</th>\n",
       "    </tr>\n",
       "  </thead>\n",
       "  <tbody>\n",
       "    <tr>\n",
       "      <th>0</th>\n",
       "      <td>ID00007637202177411956430</td>\n",
       "      <td>-4</td>\n",
       "      <td>2315</td>\n",
       "      <td>79</td>\n",
       "      <td>Male</td>\n",
       "      <td>Ex-smoker</td>\n",
       "      <td>5</td>\n",
       "      <td>2315</td>\n",
       "    </tr>\n",
       "    <tr>\n",
       "      <th>1</th>\n",
       "      <td>ID00007637202177411956430</td>\n",
       "      <td>-4</td>\n",
       "      <td>2315</td>\n",
       "      <td>79</td>\n",
       "      <td>Male</td>\n",
       "      <td>Ex-smoker</td>\n",
       "      <td>7</td>\n",
       "      <td>2214</td>\n",
       "    </tr>\n",
       "    <tr>\n",
       "      <th>2</th>\n",
       "      <td>ID00007637202177411956430</td>\n",
       "      <td>-4</td>\n",
       "      <td>2315</td>\n",
       "      <td>79</td>\n",
       "      <td>Male</td>\n",
       "      <td>Ex-smoker</td>\n",
       "      <td>9</td>\n",
       "      <td>2061</td>\n",
       "    </tr>\n",
       "    <tr>\n",
       "      <th>3</th>\n",
       "      <td>ID00007637202177411956430</td>\n",
       "      <td>-4</td>\n",
       "      <td>2315</td>\n",
       "      <td>79</td>\n",
       "      <td>Male</td>\n",
       "      <td>Ex-smoker</td>\n",
       "      <td>11</td>\n",
       "      <td>2144</td>\n",
       "    </tr>\n",
       "    <tr>\n",
       "      <th>4</th>\n",
       "      <td>ID00007637202177411956430</td>\n",
       "      <td>-4</td>\n",
       "      <td>2315</td>\n",
       "      <td>79</td>\n",
       "      <td>Male</td>\n",
       "      <td>Ex-smoker</td>\n",
       "      <td>17</td>\n",
       "      <td>2069</td>\n",
       "    </tr>\n",
       "  </tbody>\n",
       "</table>\n",
       "</div>"
      ],
      "text/plain": [
       "                   PatientID  BaselineWeek  BaselineFVC  Age   Sex  \\\n",
       "0  ID00007637202177411956430            -4         2315   79  Male   \n",
       "1  ID00007637202177411956430            -4         2315   79  Male   \n",
       "2  ID00007637202177411956430            -4         2315   79  Male   \n",
       "3  ID00007637202177411956430            -4         2315   79  Male   \n",
       "4  ID00007637202177411956430            -4         2315   79  Male   \n",
       "\n",
       "  SmokingStatus  TargetWeek  TargetFVC  \n",
       "0     Ex-smoker           5       2315  \n",
       "1     Ex-smoker           7       2214  \n",
       "2     Ex-smoker           9       2061  \n",
       "3     Ex-smoker          11       2144  \n",
       "4     Ex-smoker          17       2069  "
      ]
     },
     "execution_count": 12,
     "metadata": {},
     "output_type": "execute_result"
    }
   ],
   "source": [
    "#GENERATE NEW COLUMNS LIKE BaslineWeek,BaselineFVC,TargetWeek,TargetFVC\n",
    "train_new = []\n",
    "for p in train_data['Patient'].unique():\n",
    "    patientData = train_data[train_data['Patient'] == p]\n",
    "    firstMeasure = list(patientData.iloc[0, :].values)\n",
    "  \n",
    "    for i, week in enumerate(patientData['Weeks'].iloc[1:]):\n",
    "        fvc = patientData.iloc[i, 2]\n",
    "        trainDataPoint = firstMeasure + [week, fvc]\n",
    "        train_new.append(trainDataPoint)\n",
    "    \n",
    "        \n",
    "train_new = pd.DataFrame(train_new)\n",
    "\n",
    "train_new.columns = ['PatientID', 'BaselineWeek', 'BaselineFVC', 'first_Percent', 'Age', 'Sex', 'SmokingStatus'] + ['TargetWeek', 'TargetFVC']\n",
    "\n",
    "#Dropping percent column since it was increasing the loss\n",
    "train_new.drop(columns = ['first_Percent'], inplace = True)\n",
    "\n",
    "train_new.head()"
   ]
  },
  {
   "cell_type": "code",
   "execution_count": 13,
   "id": "8cb6d5e3",
   "metadata": {
    "execution": {
     "iopub.execute_input": "2022-07-27T13:56:28.183986Z",
     "iopub.status.busy": "2022-07-27T13:56:28.183406Z",
     "iopub.status.idle": "2022-07-27T13:56:28.185749Z",
     "shell.execute_reply": "2022-07-27T13:56:28.186248Z",
     "shell.execute_reply.started": "2022-07-27T12:57:25.175442Z"
    },
    "papermill": {
     "duration": 0.046783,
     "end_time": "2022-07-27T13:56:28.186360",
     "exception": false,
     "start_time": "2022-07-27T13:56:28.139577",
     "status": "completed"
    },
    "tags": []
   },
   "outputs": [
    {
     "data": {
      "text/plain": [
       "(1359, 8)"
      ]
     },
     "execution_count": 13,
     "metadata": {},
     "output_type": "execute_result"
    }
   ],
   "source": [
    "train_new.shape"
   ]
  },
  {
   "cell_type": "markdown",
   "id": "313d3394",
   "metadata": {
    "papermill": {
     "duration": 0.041249,
     "end_time": "2022-07-27T13:56:28.267870",
     "exception": false,
     "start_time": "2022-07-27T13:56:28.226621",
     "status": "completed"
    },
    "tags": []
   },
   "source": [
    "<font size='5'>**Image Preprocessing**</font>"
   ]
  },
  {
   "cell_type": "markdown",
   "id": "fb6d2135",
   "metadata": {
    "papermill": {
     "duration": 0.040996,
     "end_time": "2022-07-27T13:56:28.348965",
     "exception": false,
     "start_time": "2022-07-27T13:56:28.307969",
     "status": "completed"
    },
    "tags": []
   },
   "source": [
    "<font size='4'>**Fetch the CT Scan from the patient's folder for the given target week**</font>"
   ]
  },
  {
   "cell_type": "code",
   "execution_count": 14,
   "id": "43d5e136",
   "metadata": {
    "execution": {
     "iopub.execute_input": "2022-07-27T13:56:28.435864Z",
     "iopub.status.busy": "2022-07-27T13:56:28.435146Z",
     "iopub.status.idle": "2022-07-27T13:56:28.437007Z",
     "shell.execute_reply": "2022-07-27T13:56:28.437421Z",
     "shell.execute_reply.started": "2022-07-27T12:57:30.378526Z"
    },
    "papermill": {
     "duration": 0.04835,
     "end_time": "2022-07-27T13:56:28.437540",
     "exception": false,
     "start_time": "2022-07-27T13:56:28.389190",
     "status": "completed"
    },
    "tags": []
   },
   "outputs": [],
   "source": [
    "def get_Weeks_Dcms(type):\n",
    "    fig=plt.figure(figsize=(10,10))\n",
    "    dcms=[]\n",
    "    plist=[]\n",
    "    wlist=[]\n",
    "    for p in Patient_list:\n",
    "        image_dir = f\"{Path}/{type}/{p}\"\n",
    "        week=train_new[train_new[\"PatientID\"]==p][\"TargetWeek\"]\n",
    "        for w in week:\n",
    "            try:\n",
    "                ds = pydicom.dcmread(image_dir + \"/\" + str(w) + \".dcm\")\n",
    "                dcms.append(ds.pixel_array)\n",
    "                #plt.imshow(ds.pixel_array)\n",
    "                plist.append(p)\n",
    "                wlist.append(w)\n",
    "            except:\n",
    "                pass\n",
    "    data = pd.DataFrame({\"PatientID\":plist,\"TargetWeek\":wlist})        \n",
    "    return dcms,data"
   ]
  },
  {
   "cell_type": "code",
   "execution_count": 15,
   "id": "41fc9774",
   "metadata": {
    "execution": {
     "iopub.execute_input": "2022-07-27T13:56:28.523700Z",
     "iopub.status.busy": "2022-07-27T13:56:28.523152Z",
     "iopub.status.idle": "2022-07-27T13:56:46.012877Z",
     "shell.execute_reply": "2022-07-27T13:56:46.012134Z",
     "shell.execute_reply.started": "2022-07-27T12:57:33.538012Z"
    },
    "papermill": {
     "duration": 17.535143,
     "end_time": "2022-07-27T13:56:46.013049",
     "exception": false,
     "start_time": "2022-07-27T13:56:28.477906",
     "status": "completed"
    },
    "tags": []
   },
   "outputs": [
    {
     "data": {
      "text/plain": [
       "<Figure size 720x720 with 0 Axes>"
      ]
     },
     "metadata": {},
     "output_type": "display_data"
    }
   ],
   "source": [
    "train_img,train_patweek=get_Weeks_Dcms(\"train\")"
   ]
  },
  {
   "cell_type": "code",
   "execution_count": 16,
   "id": "df5b2a04",
   "metadata": {
    "execution": {
     "iopub.execute_input": "2022-07-27T13:56:46.101362Z",
     "iopub.status.busy": "2022-07-27T13:56:46.100704Z",
     "iopub.status.idle": "2022-07-27T13:56:47.291092Z",
     "shell.execute_reply": "2022-07-27T13:56:47.291537Z",
     "shell.execute_reply.started": "2022-07-27T12:57:38.707122Z"
    },
    "papermill": {
     "duration": 1.235901,
     "end_time": "2022-07-27T13:56:47.291713",
     "exception": false,
     "start_time": "2022-07-27T13:56:46.055812",
     "status": "completed"
    },
    "tags": []
   },
   "outputs": [],
   "source": [
    "#Resizing the images\n",
    "for i in range(0,len(train_img)):\n",
    "    im = Image.fromarray(train_img[i])\n",
    "    im = im.resize((128,128),resample=Image.NEAREST) \n",
    "    train_img[i] = np.array(im).reshape((128,128,1))"
   ]
  },
  {
   "cell_type": "code",
   "execution_count": 17,
   "id": "eda94466",
   "metadata": {
    "execution": {
     "iopub.execute_input": "2022-07-27T13:56:47.379778Z",
     "iopub.status.busy": "2022-07-27T13:56:47.379148Z",
     "iopub.status.idle": "2022-07-27T13:56:47.382195Z",
     "shell.execute_reply": "2022-07-27T13:56:47.382778Z",
     "shell.execute_reply.started": "2022-07-27T12:57:41.489569Z"
    },
    "papermill": {
     "duration": 0.049283,
     "end_time": "2022-07-27T13:56:47.382944",
     "exception": false,
     "start_time": "2022-07-27T13:56:47.333661",
     "status": "completed"
    },
    "tags": []
   },
   "outputs": [
    {
     "name": "stdout",
     "output_type": "stream",
     "text": [
      "1096\n",
      "(1096, 2)\n"
     ]
    }
   ],
   "source": [
    "print(len(train_img))\n",
    "print(train_patweek.shape)"
   ]
  },
  {
   "cell_type": "code",
   "execution_count": 18,
   "id": "50a61354",
   "metadata": {
    "execution": {
     "iopub.execute_input": "2022-07-27T13:56:47.474866Z",
     "iopub.status.busy": "2022-07-27T13:56:47.473871Z",
     "iopub.status.idle": "2022-07-27T13:56:47.490927Z",
     "shell.execute_reply": "2022-07-27T13:56:47.490339Z",
     "shell.execute_reply.started": "2022-07-27T12:57:45.189610Z"
    },
    "papermill": {
     "duration": 0.066309,
     "end_time": "2022-07-27T13:56:47.491040",
     "exception": false,
     "start_time": "2022-07-27T13:56:47.424731",
     "status": "completed"
    },
    "tags": []
   },
   "outputs": [],
   "source": [
    "train_img=np.array(train_img)"
   ]
  },
  {
   "cell_type": "code",
   "execution_count": 19,
   "id": "3886ab28",
   "metadata": {
    "execution": {
     "iopub.execute_input": "2022-07-27T13:56:47.580673Z",
     "iopub.status.busy": "2022-07-27T13:56:47.580119Z",
     "iopub.status.idle": "2022-07-27T13:56:47.588171Z",
     "shell.execute_reply": "2022-07-27T13:56:47.587760Z",
     "shell.execute_reply.started": "2022-07-27T12:57:47.574823Z"
    },
    "papermill": {
     "duration": 0.055659,
     "end_time": "2022-07-27T13:56:47.588281",
     "exception": false,
     "start_time": "2022-07-27T13:56:47.532622",
     "status": "completed"
    },
    "tags": []
   },
   "outputs": [],
   "source": [
    "train_new = pd.merge(train_patweek,train_new, how=\"left\", on=['PatientID',\"TargetWeek\"])"
   ]
  },
  {
   "cell_type": "code",
   "execution_count": 20,
   "id": "f545a560",
   "metadata": {
    "execution": {
     "iopub.execute_input": "2022-07-27T13:56:47.674468Z",
     "iopub.status.busy": "2022-07-27T13:56:47.673716Z",
     "iopub.status.idle": "2022-07-27T13:56:47.676397Z",
     "shell.execute_reply": "2022-07-27T13:56:47.676874Z",
     "shell.execute_reply.started": "2022-07-27T12:57:49.992331Z"
    },
    "papermill": {
     "duration": 0.047831,
     "end_time": "2022-07-27T13:56:47.676993",
     "exception": false,
     "start_time": "2022-07-27T13:56:47.629162",
     "status": "completed"
    },
    "tags": []
   },
   "outputs": [
    {
     "data": {
      "text/plain": [
       "(1096, 8)"
      ]
     },
     "execution_count": 20,
     "metadata": {},
     "output_type": "execute_result"
    }
   ],
   "source": [
    "train_new.shape"
   ]
  },
  {
   "cell_type": "code",
   "execution_count": 21,
   "id": "91609c06",
   "metadata": {
    "execution": {
     "iopub.execute_input": "2022-07-27T13:56:47.766533Z",
     "iopub.status.busy": "2022-07-27T13:56:47.764995Z",
     "iopub.status.idle": "2022-07-27T13:56:47.768818Z",
     "shell.execute_reply": "2022-07-27T13:56:47.768204Z",
     "shell.execute_reply.started": "2022-07-27T12:57:52.637651Z"
    },
    "papermill": {
     "duration": 0.050704,
     "end_time": "2022-07-27T13:56:47.768961",
     "exception": false,
     "start_time": "2022-07-27T13:56:47.718257",
     "status": "completed"
    },
    "tags": []
   },
   "outputs": [
    {
     "name": "stdout",
     "output_type": "stream",
     "text": [
      "(1096, 128, 128, 1)\n"
     ]
    }
   ],
   "source": [
    "print(train_img.shape)"
   ]
  },
  {
   "cell_type": "code",
   "execution_count": 22,
   "id": "854a0f6c",
   "metadata": {
    "execution": {
     "iopub.execute_input": "2022-07-27T13:56:47.858254Z",
     "iopub.status.busy": "2022-07-27T13:56:47.857490Z",
     "iopub.status.idle": "2022-07-27T13:56:47.862926Z",
     "shell.execute_reply": "2022-07-27T13:56:47.862495Z",
     "shell.execute_reply.started": "2022-07-27T12:57:55.651758Z"
    },
    "papermill": {
     "duration": 0.050732,
     "end_time": "2022-07-27T13:56:47.863024",
     "exception": false,
     "start_time": "2022-07-27T13:56:47.812292",
     "status": "completed"
    },
    "tags": []
   },
   "outputs": [],
   "source": [
    "#ENCODING Sex and SmokingStatus\n",
    "train_new[\"Sex\"]=train_new[\"Sex\"].astype(\"category\").cat.codes\n",
    "train_new[\"SmokingStatus\"]=train_new[\"SmokingStatus\"].astype(\"category\").cat.codes"
   ]
  },
  {
   "cell_type": "code",
   "execution_count": 23,
   "id": "c6a4190d",
   "metadata": {
    "execution": {
     "iopub.execute_input": "2022-07-27T13:56:47.956138Z",
     "iopub.status.busy": "2022-07-27T13:56:47.955518Z",
     "iopub.status.idle": "2022-07-27T13:56:47.958605Z",
     "shell.execute_reply": "2022-07-27T13:56:47.959009Z",
     "shell.execute_reply.started": "2022-07-27T12:57:58.067815Z"
    },
    "papermill": {
     "duration": 0.054189,
     "end_time": "2022-07-27T13:56:47.959122",
     "exception": false,
     "start_time": "2022-07-27T13:56:47.904933",
     "status": "completed"
    },
    "tags": []
   },
   "outputs": [
    {
     "data": {
      "text/html": [
       "<div>\n",
       "<style scoped>\n",
       "    .dataframe tbody tr th:only-of-type {\n",
       "        vertical-align: middle;\n",
       "    }\n",
       "\n",
       "    .dataframe tbody tr th {\n",
       "        vertical-align: top;\n",
       "    }\n",
       "\n",
       "    .dataframe thead th {\n",
       "        text-align: right;\n",
       "    }\n",
       "</style>\n",
       "<table border=\"1\" class=\"dataframe\">\n",
       "  <thead>\n",
       "    <tr style=\"text-align: right;\">\n",
       "      <th></th>\n",
       "      <th>PatientID</th>\n",
       "      <th>TargetWeek</th>\n",
       "      <th>BaselineWeek</th>\n",
       "      <th>BaselineFVC</th>\n",
       "      <th>Age</th>\n",
       "      <th>Sex</th>\n",
       "      <th>SmokingStatus</th>\n",
       "      <th>TargetFVC</th>\n",
       "    </tr>\n",
       "  </thead>\n",
       "  <tbody>\n",
       "    <tr>\n",
       "      <th>0</th>\n",
       "      <td>ID00007637202177411956430</td>\n",
       "      <td>5</td>\n",
       "      <td>-4</td>\n",
       "      <td>2315</td>\n",
       "      <td>79</td>\n",
       "      <td>1</td>\n",
       "      <td>1</td>\n",
       "      <td>2315</td>\n",
       "    </tr>\n",
       "    <tr>\n",
       "      <th>1</th>\n",
       "      <td>ID00007637202177411956430</td>\n",
       "      <td>7</td>\n",
       "      <td>-4</td>\n",
       "      <td>2315</td>\n",
       "      <td>79</td>\n",
       "      <td>1</td>\n",
       "      <td>1</td>\n",
       "      <td>2214</td>\n",
       "    </tr>\n",
       "    <tr>\n",
       "      <th>2</th>\n",
       "      <td>ID00007637202177411956430</td>\n",
       "      <td>9</td>\n",
       "      <td>-4</td>\n",
       "      <td>2315</td>\n",
       "      <td>79</td>\n",
       "      <td>1</td>\n",
       "      <td>1</td>\n",
       "      <td>2061</td>\n",
       "    </tr>\n",
       "    <tr>\n",
       "      <th>3</th>\n",
       "      <td>ID00007637202177411956430</td>\n",
       "      <td>11</td>\n",
       "      <td>-4</td>\n",
       "      <td>2315</td>\n",
       "      <td>79</td>\n",
       "      <td>1</td>\n",
       "      <td>1</td>\n",
       "      <td>2144</td>\n",
       "    </tr>\n",
       "    <tr>\n",
       "      <th>4</th>\n",
       "      <td>ID00007637202177411956430</td>\n",
       "      <td>17</td>\n",
       "      <td>-4</td>\n",
       "      <td>2315</td>\n",
       "      <td>79</td>\n",
       "      <td>1</td>\n",
       "      <td>1</td>\n",
       "      <td>2069</td>\n",
       "    </tr>\n",
       "  </tbody>\n",
       "</table>\n",
       "</div>"
      ],
      "text/plain": [
       "                   PatientID  TargetWeek  BaselineWeek  BaselineFVC  Age  Sex  \\\n",
       "0  ID00007637202177411956430           5            -4         2315   79    1   \n",
       "1  ID00007637202177411956430           7            -4         2315   79    1   \n",
       "2  ID00007637202177411956430           9            -4         2315   79    1   \n",
       "3  ID00007637202177411956430          11            -4         2315   79    1   \n",
       "4  ID00007637202177411956430          17            -4         2315   79    1   \n",
       "\n",
       "   SmokingStatus  TargetFVC  \n",
       "0              1       2315  \n",
       "1              1       2214  \n",
       "2              1       2061  \n",
       "3              1       2144  \n",
       "4              1       2069  "
      ]
     },
     "execution_count": 23,
     "metadata": {},
     "output_type": "execute_result"
    }
   ],
   "source": [
    "train_new.head()"
   ]
  },
  {
   "cell_type": "markdown",
   "id": "ba8794f7",
   "metadata": {
    "papermill": {
     "duration": 0.041838,
     "end_time": "2022-07-27T13:56:48.043944",
     "exception": false,
     "start_time": "2022-07-27T13:56:48.002106",
     "status": "completed"
    },
    "tags": []
   },
   "source": [
    "<font size='5'>**MinMax Normalization**</font>"
   ]
  },
  {
   "cell_type": "code",
   "execution_count": 24,
   "id": "6f917f39",
   "metadata": {
    "execution": {
     "iopub.execute_input": "2022-07-27T13:56:48.137647Z",
     "iopub.status.busy": "2022-07-27T13:56:48.137092Z",
     "iopub.status.idle": "2022-07-27T13:56:48.140789Z",
     "shell.execute_reply": "2022-07-27T13:56:48.140340Z",
     "shell.execute_reply.started": "2022-07-27T12:58:02.010052Z"
    },
    "papermill": {
     "duration": 0.055223,
     "end_time": "2022-07-27T13:56:48.140894",
     "exception": false,
     "start_time": "2022-07-27T13:56:48.085671",
     "status": "completed"
    },
    "tags": []
   },
   "outputs": [],
   "source": [
    "train_new[\"TargetWeek\"]=(train_new['TargetWeek'] - train_new['TargetWeek'].min() ) / ( train_new['TargetWeek'].max() - train_new['TargetWeek'].min() )\n",
    "train_new[\"Age\"]=(train_new['Age'] - train_new['Age'].min() ) / ( train_new['Age'].max() - train_new['Age'].min() )\n",
    "train_new[\"BaselineWeek\"]=(train_new['BaselineWeek'] - train_new['BaselineWeek'].min() ) / ( train_new['BaselineWeek'].max() - train_new['BaselineWeek'].min() )\n",
    "train_new[\"BaselineFVC\"]=(train_new['BaselineFVC'] - train_new['BaselineFVC'].min() ) / ( train_new['BaselineFVC'].max() - train_new['BaselineFVC'].min() )"
   ]
  },
  {
   "cell_type": "code",
   "execution_count": 25,
   "id": "ee69a703",
   "metadata": {
    "execution": {
     "iopub.execute_input": "2022-07-27T13:56:48.228890Z",
     "iopub.status.busy": "2022-07-27T13:56:48.228359Z",
     "iopub.status.idle": "2022-07-27T13:56:48.282654Z",
     "shell.execute_reply": "2022-07-27T13:56:48.283023Z",
     "shell.execute_reply.started": "2022-07-27T13:01:56.929157Z"
    },
    "papermill": {
     "duration": 0.100611,
     "end_time": "2022-07-27T13:56:48.283143",
     "exception": false,
     "start_time": "2022-07-27T13:56:48.182532",
     "status": "completed"
    },
    "tags": []
   },
   "outputs": [],
   "source": [
    "x_min = np.min(train_img)\n",
    "x_max = np.max(train_img)\n",
    "train_img_scaled = train_img - x_min / (x_max - x_min)"
   ]
  },
  {
   "cell_type": "code",
   "execution_count": 26,
   "id": "b4eecf88",
   "metadata": {
    "execution": {
     "iopub.execute_input": "2022-07-27T13:56:48.380157Z",
     "iopub.status.busy": "2022-07-27T13:56:48.379151Z",
     "iopub.status.idle": "2022-07-27T13:56:48.382330Z",
     "shell.execute_reply": "2022-07-27T13:56:48.382761Z",
     "shell.execute_reply.started": "2022-07-27T12:58:10.668634Z"
    },
    "papermill": {
     "duration": 0.056679,
     "end_time": "2022-07-27T13:56:48.382878",
     "exception": false,
     "start_time": "2022-07-27T13:56:48.326199",
     "status": "completed"
    },
    "tags": []
   },
   "outputs": [
    {
     "data": {
      "text/html": [
       "<div>\n",
       "<style scoped>\n",
       "    .dataframe tbody tr th:only-of-type {\n",
       "        vertical-align: middle;\n",
       "    }\n",
       "\n",
       "    .dataframe tbody tr th {\n",
       "        vertical-align: top;\n",
       "    }\n",
       "\n",
       "    .dataframe thead th {\n",
       "        text-align: right;\n",
       "    }\n",
       "</style>\n",
       "<table border=\"1\" class=\"dataframe\">\n",
       "  <thead>\n",
       "    <tr style=\"text-align: right;\">\n",
       "      <th></th>\n",
       "      <th>PatientID</th>\n",
       "      <th>TargetWeek</th>\n",
       "      <th>BaselineWeek</th>\n",
       "      <th>BaselineFVC</th>\n",
       "      <th>Age</th>\n",
       "      <th>Sex</th>\n",
       "      <th>SmokingStatus</th>\n",
       "      <th>TargetFVC</th>\n",
       "    </tr>\n",
       "  </thead>\n",
       "  <tbody>\n",
       "    <tr>\n",
       "      <th>0</th>\n",
       "      <td>ID00007637202177411956430</td>\n",
       "      <td>0.034783</td>\n",
       "      <td>0.014706</td>\n",
       "      <td>0.241456</td>\n",
       "      <td>0.789474</td>\n",
       "      <td>1</td>\n",
       "      <td>1</td>\n",
       "      <td>2315</td>\n",
       "    </tr>\n",
       "    <tr>\n",
       "      <th>1</th>\n",
       "      <td>ID00007637202177411956430</td>\n",
       "      <td>0.052174</td>\n",
       "      <td>0.014706</td>\n",
       "      <td>0.241456</td>\n",
       "      <td>0.789474</td>\n",
       "      <td>1</td>\n",
       "      <td>1</td>\n",
       "      <td>2214</td>\n",
       "    </tr>\n",
       "    <tr>\n",
       "      <th>2</th>\n",
       "      <td>ID00007637202177411956430</td>\n",
       "      <td>0.069565</td>\n",
       "      <td>0.014706</td>\n",
       "      <td>0.241456</td>\n",
       "      <td>0.789474</td>\n",
       "      <td>1</td>\n",
       "      <td>1</td>\n",
       "      <td>2061</td>\n",
       "    </tr>\n",
       "    <tr>\n",
       "      <th>3</th>\n",
       "      <td>ID00007637202177411956430</td>\n",
       "      <td>0.086957</td>\n",
       "      <td>0.014706</td>\n",
       "      <td>0.241456</td>\n",
       "      <td>0.789474</td>\n",
       "      <td>1</td>\n",
       "      <td>1</td>\n",
       "      <td>2144</td>\n",
       "    </tr>\n",
       "    <tr>\n",
       "      <th>4</th>\n",
       "      <td>ID00007637202177411956430</td>\n",
       "      <td>0.139130</td>\n",
       "      <td>0.014706</td>\n",
       "      <td>0.241456</td>\n",
       "      <td>0.789474</td>\n",
       "      <td>1</td>\n",
       "      <td>1</td>\n",
       "      <td>2069</td>\n",
       "    </tr>\n",
       "  </tbody>\n",
       "</table>\n",
       "</div>"
      ],
      "text/plain": [
       "                   PatientID  TargetWeek  BaselineWeek  BaselineFVC       Age  \\\n",
       "0  ID00007637202177411956430    0.034783      0.014706     0.241456  0.789474   \n",
       "1  ID00007637202177411956430    0.052174      0.014706     0.241456  0.789474   \n",
       "2  ID00007637202177411956430    0.069565      0.014706     0.241456  0.789474   \n",
       "3  ID00007637202177411956430    0.086957      0.014706     0.241456  0.789474   \n",
       "4  ID00007637202177411956430    0.139130      0.014706     0.241456  0.789474   \n",
       "\n",
       "   Sex  SmokingStatus  TargetFVC  \n",
       "0    1              1       2315  \n",
       "1    1              1       2214  \n",
       "2    1              1       2061  \n",
       "3    1              1       2144  \n",
       "4    1              1       2069  "
      ]
     },
     "execution_count": 26,
     "metadata": {},
     "output_type": "execute_result"
    }
   ],
   "source": [
    "train_new.head()"
   ]
  },
  {
   "cell_type": "code",
   "execution_count": 27,
   "id": "18cdb5f1",
   "metadata": {
    "execution": {
     "iopub.execute_input": "2022-07-27T13:56:48.473818Z",
     "iopub.status.busy": "2022-07-27T13:56:48.473206Z",
     "iopub.status.idle": "2022-07-27T13:56:48.475703Z",
     "shell.execute_reply": "2022-07-27T13:56:48.476098Z",
     "shell.execute_reply.started": "2022-07-27T12:58:37.473073Z"
    },
    "papermill": {
     "duration": 0.049207,
     "end_time": "2022-07-27T13:56:48.476209",
     "exception": false,
     "start_time": "2022-07-27T13:56:48.427002",
     "status": "completed"
    },
    "tags": []
   },
   "outputs": [
    {
     "data": {
      "text/plain": [
       "Index(['PatientID', 'TargetWeek', 'BaselineWeek', 'BaselineFVC', 'Age', 'Sex',\n",
       "       'SmokingStatus', 'TargetFVC'],\n",
       "      dtype='object')"
      ]
     },
     "execution_count": 27,
     "metadata": {},
     "output_type": "execute_result"
    }
   ],
   "source": [
    "train_new.columns"
   ]
  },
  {
   "cell_type": "code",
   "execution_count": 28,
   "id": "3fd9f25c",
   "metadata": {
    "execution": {
     "iopub.execute_input": "2022-07-27T13:56:48.569310Z",
     "iopub.status.busy": "2022-07-27T13:56:48.568823Z",
     "iopub.status.idle": "2022-07-27T13:56:48.572177Z",
     "shell.execute_reply": "2022-07-27T13:56:48.571787Z",
     "shell.execute_reply.started": "2022-07-27T13:00:23.919235Z"
    },
    "papermill": {
     "duration": 0.052453,
     "end_time": "2022-07-27T13:56:48.572282",
     "exception": false,
     "start_time": "2022-07-27T13:56:48.519829",
     "status": "completed"
    },
    "tags": []
   },
   "outputs": [],
   "source": [
    "target=train_new[\"TargetFVC\"].values\n",
    "features=train_new[[ 'BaselineWeek', 'BaselineFVC', 'Age', 'Sex',\n",
    "       'SmokingStatus','TargetWeek']]"
   ]
  },
  {
   "cell_type": "code",
   "execution_count": 29,
   "id": "8dde5dd2",
   "metadata": {
    "execution": {
     "iopub.execute_input": "2022-07-27T13:56:48.662730Z",
     "iopub.status.busy": "2022-07-27T13:56:48.662059Z",
     "iopub.status.idle": "2022-07-27T13:56:48.665000Z",
     "shell.execute_reply": "2022-07-27T13:56:48.665408Z",
     "shell.execute_reply.started": "2022-07-27T13:02:57.959959Z"
    },
    "papermill": {
     "duration": 0.050667,
     "end_time": "2022-07-27T13:56:48.665531",
     "exception": false,
     "start_time": "2022-07-27T13:56:48.614864",
     "status": "completed"
    },
    "tags": []
   },
   "outputs": [
    {
     "data": {
      "text/plain": [
       "((1096, 6), (1096,), (1096, 128, 128, 1))"
      ]
     },
     "execution_count": 29,
     "metadata": {},
     "output_type": "execute_result"
    }
   ],
   "source": [
    "features.shape,target.shape,train_img_scaled.shape"
   ]
  },
  {
   "cell_type": "markdown",
   "id": "abdc2d99",
   "metadata": {
    "papermill": {
     "duration": 0.044048,
     "end_time": "2022-07-27T13:56:48.761053",
     "exception": false,
     "start_time": "2022-07-27T13:56:48.717005",
     "status": "completed"
    },
    "tags": []
   },
   "source": [
    "<font size='5'>**Defining function for Loss calculation**</font>"
   ]
  },
  {
   "cell_type": "markdown",
   "id": "05032f58",
   "metadata": {
    "papermill": {
     "duration": 0.043921,
     "end_time": "2022-07-27T13:56:48.848200",
     "exception": false,
     "start_time": "2022-07-27T13:56:48.804279",
     "status": "completed"
    },
    "tags": []
   },
   "source": [
    "<font size='4'>**Loss Calculation is done using Laplace Likelihood**</font>\n",
    "\n",
    "* <font size='4'>For each true FVC measurement, you will predict both an FVC and a confidence measure (standard deviation σ).</font>\n",
    "* <font size='4'>Confidence values smaller than 70 are clipped.</font>\n",
    "* <font size='4'>Errors greater than 1000 are also clipped in order to avoid large errors.</font>"
   ]
  },
  {
   "attachments": {
    "e1028f31-3fec-45bd-a6bf-a3378e086d2c.png": {
     "image/png": "[encoded data removed]"
    }
   },
   "cell_type": "markdown",
   "id": "5a7456cf",
   "metadata": {
    "papermill": {
     "duration": 0.043208,
     "end_time": "2022-07-27T13:56:48.935176",
     "exception": false,
     "start_time": "2022-07-27T13:56:48.891968",
     "status": "completed"
    },
    "tags": []
   },
   "source": [
    "![metric.png](attachment:e1028f31-3fec-45bd-a6bf-a3378e086d2c.png)"
   ]
  },
  {
   "cell_type": "code",
   "execution_count": 30,
   "id": "4a68b72f",
   "metadata": {
    "execution": {
     "iopub.execute_input": "2022-07-27T13:56:49.188027Z",
     "iopub.status.busy": "2022-07-27T13:56:49.186990Z",
     "iopub.status.idle": "2022-07-27T13:56:51.433056Z",
     "shell.execute_reply": "2022-07-27T13:56:51.433696Z",
     "shell.execute_reply.started": "2022-07-27T13:06:58.463632Z"
    },
    "papermill": {
     "duration": 2.455728,
     "end_time": "2022-07-27T13:56:51.433905",
     "exception": false,
     "start_time": "2022-07-27T13:56:48.978177",
     "status": "completed"
    },
    "tags": []
   },
   "outputs": [
    {
     "name": "stderr",
     "output_type": "stream",
     "text": [
      "2022-07-27 13:56:49.087273: I tensorflow/stream_executor/cuda/cuda_gpu_executor.cc:937] successful NUMA node read from SysFS had negative value (-1), but there must be at least one NUMA node, so returning NUMA node zero\n",
      "2022-07-27 13:56:49.183252: I tensorflow/stream_executor/cuda/cuda_gpu_executor.cc:937] successful NUMA node read from SysFS had negative value (-1), but there must be at least one NUMA node, so returning NUMA node zero\n",
      "2022-07-27 13:56:49.184029: I tensorflow/stream_executor/cuda/cuda_gpu_executor.cc:937] successful NUMA node read from SysFS had negative value (-1), but there must be at least one NUMA node, so returning NUMA node zero\n",
      "2022-07-27 13:56:49.187297: I tensorflow/core/platform/cpu_feature_guard.cc:142] This TensorFlow binary is optimized with oneAPI Deep Neural Network Library (oneDNN) to use the following CPU instructions in performance-critical operations:  AVX2 AVX512F FMA\n",
      "To enable them in other operations, rebuild TensorFlow with the appropriate compiler flags.\n",
      "2022-07-27 13:56:49.188596: I tensorflow/stream_executor/cuda/cuda_gpu_executor.cc:937] successful NUMA node read from SysFS had negative value (-1), but there must be at least one NUMA node, so returning NUMA node zero\n",
      "2022-07-27 13:56:49.189495: I tensorflow/stream_executor/cuda/cuda_gpu_executor.cc:937] successful NUMA node read from SysFS had negative value (-1), but there must be at least one NUMA node, so returning NUMA node zero\n",
      "2022-07-27 13:56:49.190337: I tensorflow/stream_executor/cuda/cuda_gpu_executor.cc:937] successful NUMA node read from SysFS had negative value (-1), but there must be at least one NUMA node, so returning NUMA node zero\n",
      "2022-07-27 13:56:51.108675: I tensorflow/stream_executor/cuda/cuda_gpu_executor.cc:937] successful NUMA node read from SysFS had negative value (-1), but there must be at least one NUMA node, so returning NUMA node zero\n",
      "2022-07-27 13:56:51.109545: I tensorflow/stream_executor/cuda/cuda_gpu_executor.cc:937] successful NUMA node read from SysFS had negative value (-1), but there must be at least one NUMA node, so returning NUMA node zero\n",
      "2022-07-27 13:56:51.110280: I tensorflow/stream_executor/cuda/cuda_gpu_executor.cc:937] successful NUMA node read from SysFS had negative value (-1), but there must be at least one NUMA node, so returning NUMA node zero\n",
      "2022-07-27 13:56:51.110922: I tensorflow/core/common_runtime/gpu/gpu_device.cc:1510] Created device /job:localhost/replica:0/task:0/device:GPU:0 with 15403 MB memory:  -> device: 0, name: Tesla P100-PCIE-16GB, pci bus id: 0000:00:04.0, compute capability: 6.0\n"
     ]
    }
   ],
   "source": [
    "C70, C10 = tf.constant(70, dtype='float32'), tf.constant(1000, dtype=\"float32\")\n",
    "#=============================#\n",
    "def LaplaceLogLikelihood(y_true, y_pred):\n",
    "    tf.dtypes.cast(y_true, tf.float32)\n",
    "    tf.dtypes.cast(y_pred, tf.float32)\n",
    "    \n",
    "    sigma_clip = tf.maximum(y_pred[:, 1], C70)\n",
    "    \n",
    "    delta = tf.minimum(tf.abs(y_true[:, 0] - y_pred[:, 0]), C10)\n",
    "  \n",
    "    sq2 = tf.sqrt( tf.dtypes.cast(2, dtype=tf.float32) )\n",
    "    metric = (delta / sigma_clip)*sq2 + tf.math.log(sigma_clip* sq2)\n",
    "    return K.mean(metric)\n",
    "#=============================#\n",
    "def regressionloss (y_true, y_pred):\n",
    "    tf.dtypes.cast(y_true, tf.float32)\n",
    "    tf.dtypes.cast(y_pred, tf.float32)\n",
    "    spread = tf.abs( (y_true[:, 0] -  y_pred[:, 0])  / y_true[:, 0] )\n",
    "    #spred = tf.square(y_true, y_pred[:, 0])\n",
    "    return K.mean(spread)\n",
    "#=============================#\n",
    "\n",
    "def OSICloss(_lambda):\n",
    "    def loss(y_true, y_pred):\n",
    "        return _lambda * LaplaceLogLikelihood(y_true, y_pred) + (1 - _lambda)*regressionloss(y_true, y_pred)\n",
    "    return loss\n",
    "#================="
   ]
  },
  {
   "cell_type": "markdown",
   "id": "53893aa1",
   "metadata": {
    "papermill": {
     "duration": 0.04644,
     "end_time": "2022-07-27T13:56:51.525941",
     "exception": false,
     "start_time": "2022-07-27T13:56:51.479501",
     "status": "completed"
    },
    "tags": []
   },
   "source": [
    "<font size='5'>**Architecture of CNN model**</font>"
   ]
  },
  {
   "cell_type": "code",
   "execution_count": 31,
   "id": "ce643ac9",
   "metadata": {
    "execution": {
     "iopub.execute_input": "2022-07-27T13:56:51.625267Z",
     "iopub.status.busy": "2022-07-27T13:56:51.624566Z",
     "iopub.status.idle": "2022-07-27T13:56:51.627230Z",
     "shell.execute_reply": "2022-07-27T13:56:51.626798Z",
     "shell.execute_reply.started": "2022-07-27T13:09:26.258404Z"
    },
    "papermill": {
     "duration": 0.056467,
     "end_time": "2022-07-27T13:56:51.627337",
     "exception": false,
     "start_time": "2022-07-27T13:56:51.570870",
     "status": "completed"
    },
    "tags": []
   },
   "outputs": [],
   "source": [
    "def model_1D():\n",
    "    ct = Layer.Input((128,128), name=\"input\")\n",
    "    Patient = Layer.Input((6,), name=\"Patient\")\n",
    "    x = Layer.Conv1D(50, 4, activation=\"relu\", name=\"conv1\")(ct)\n",
    "    x = Layer.MaxPool1D(2, name='pool1')(x)   \n",
    "    x = Layer.Conv1D(50, 4, activation=\"relu\", name=\"conv2\")(x)\n",
    "    x = Layer.MaxPool1D(2, name='pool2')(x)  \n",
    "    x = Layer.Conv1D(50, 4, activation=\"relu\", name=\"conv3\")(x)\n",
    "    x = Layer.MaxPool1D(2, name='pool3')(x) \n",
    "    x = Layer.Flatten(name=\"features\")(x)\n",
    "    x = Layer.Dense(50, activation=\"relu\", name=\"d1\")(x)\n",
    "    l = Layer.Dense(10, activation=\"relu\", name=\"d2\")(Patient)\n",
    "    x = Layer.Concatenate(name=\"combine\")([x, l])\n",
    "    x = Layer.Dense(50, activation=\"relu\", name=\"d3\")(x)\n",
    "    preds = Layer.Dense(2, activation=\"relu\", name=\"preds\")(x)    \n",
    "    model = Model.Model([ct, Patient], preds, name=\"CNN\")\n",
    "    model.compile(loss=OSICloss(0.5), optimizer=\"adam\", metrics=[LaplaceLogLikelihood])\n",
    "   \n",
    "    return model"
   ]
  },
  {
   "cell_type": "code",
   "execution_count": 32,
   "id": "f41dbbb5",
   "metadata": {
    "execution": {
     "iopub.execute_input": "2022-07-27T13:56:51.718170Z",
     "iopub.status.busy": "2022-07-27T13:56:51.717661Z",
     "iopub.status.idle": "2022-07-27T13:56:51.848084Z",
     "shell.execute_reply": "2022-07-27T13:56:51.847356Z",
     "shell.execute_reply.started": "2022-07-27T13:09:28.978736Z"
    },
    "papermill": {
     "duration": 0.177365,
     "end_time": "2022-07-27T13:56:51.848233",
     "exception": false,
     "start_time": "2022-07-27T13:56:51.670868",
     "status": "completed"
    },
    "tags": []
   },
   "outputs": [
    {
     "name": "stdout",
     "output_type": "stream",
     "text": [
      "Model: \"CNN\"\n",
      "__________________________________________________________________________________________________\n",
      "Layer (type)                    Output Shape         Param #     Connected to                     \n",
      "==================================================================================================\n",
      "input (InputLayer)              [(None, 128, 128)]   0                                            \n",
      "__________________________________________________________________________________________________\n",
      "conv1 (Conv1D)                  (None, 125, 50)      25650       input[0][0]                      \n",
      "__________________________________________________________________________________________________\n",
      "pool1 (MaxPooling1D)            (None, 62, 50)       0           conv1[0][0]                      \n",
      "__________________________________________________________________________________________________\n",
      "conv2 (Conv1D)                  (None, 59, 50)       10050       pool1[0][0]                      \n",
      "__________________________________________________________________________________________________\n",
      "pool2 (MaxPooling1D)            (None, 29, 50)       0           conv2[0][0]                      \n",
      "__________________________________________________________________________________________________\n",
      "conv3 (Conv1D)                  (None, 26, 50)       10050       pool2[0][0]                      \n",
      "__________________________________________________________________________________________________\n",
      "pool3 (MaxPooling1D)            (None, 13, 50)       0           conv3[0][0]                      \n",
      "__________________________________________________________________________________________________\n",
      "features (Flatten)              (None, 650)          0           pool3[0][0]                      \n",
      "__________________________________________________________________________________________________\n",
      "Patient (InputLayer)            [(None, 6)]          0                                            \n",
      "__________________________________________________________________________________________________\n",
      "d1 (Dense)                      (None, 50)           32550       features[0][0]                   \n",
      "__________________________________________________________________________________________________\n",
      "d2 (Dense)                      (None, 10)           70          Patient[0][0]                    \n",
      "__________________________________________________________________________________________________\n",
      "combine (Concatenate)           (None, 60)           0           d1[0][0]                         \n",
      "                                                                 d2[0][0]                         \n",
      "__________________________________________________________________________________________________\n",
      "d3 (Dense)                      (None, 50)           3050        combine[0][0]                    \n",
      "__________________________________________________________________________________________________\n",
      "preds (Dense)                   (None, 2)            102         d3[0][0]                         \n",
      "==================================================================================================\n",
      "Total params: 81,522\n",
      "Trainable params: 81,522\n",
      "Non-trainable params: 0\n",
      "__________________________________________________________________________________________________\n",
      "None\n"
     ]
    }
   ],
   "source": [
    "net_1D = model_1D()\n",
    "print(net_1D.summary())"
   ]
  },
  {
   "cell_type": "code",
   "execution_count": 33,
   "id": "08f51b6c",
   "metadata": {
    "execution": {
     "iopub.execute_input": "2022-07-27T13:56:51.941849Z",
     "iopub.status.busy": "2022-07-27T13:56:51.941169Z",
     "iopub.status.idle": "2022-07-27T13:56:51.943801Z",
     "shell.execute_reply": "2022-07-27T13:56:51.943390Z",
     "shell.execute_reply.started": "2022-07-27T13:09:51.763834Z"
    },
    "papermill": {
     "duration": 0.049839,
     "end_time": "2022-07-27T13:56:51.943914",
     "exception": false,
     "start_time": "2022-07-27T13:56:51.894075",
     "status": "completed"
    },
    "tags": []
   },
   "outputs": [],
   "source": [
    "target=target.astype(\"float32\")"
   ]
  },
  {
   "cell_type": "markdown",
   "id": "f93b151c",
   "metadata": {
    "papermill": {
     "duration": 0.04447,
     "end_time": "2022-07-27T13:56:52.032169",
     "exception": false,
     "start_time": "2022-07-27T13:56:51.987699",
     "status": "completed"
    },
    "tags": []
   },
   "source": [
    "<font size='5'>**Train the model**</font>"
   ]
  },
  {
   "cell_type": "code",
   "execution_count": 34,
   "id": "ac1b90c0",
   "metadata": {
    "execution": {
     "iopub.execute_input": "2022-07-27T13:56:52.124653Z",
     "iopub.status.busy": "2022-07-27T13:56:52.123192Z",
     "iopub.status.idle": "2022-07-27T13:57:11.874560Z",
     "shell.execute_reply": "2022-07-27T13:57:11.874054Z",
     "shell.execute_reply.started": "2022-07-27T13:10:17.059060Z"
    },
    "papermill": {
     "duration": 19.798703,
     "end_time": "2022-07-27T13:57:11.874689",
     "exception": false,
     "start_time": "2022-07-27T13:56:52.075986",
     "status": "completed"
    },
    "tags": []
   },
   "outputs": [
    {
     "name": "stderr",
     "output_type": "stream",
     "text": [
      "2022-07-27 13:56:52.236809: I tensorflow/compiler/mlir/mlir_graph_optimization_pass.cc:185] None of the MLIR Optimization Passes are enabled (registered 2)\n"
     ]
    },
    {
     "name": "stdout",
     "output_type": "stream",
     "text": [
      "Epoch 1/100\n"
     ]
    },
    {
     "name": "stderr",
     "output_type": "stream",
     "text": [
      "2022-07-27 13:56:55.140183: I tensorflow/stream_executor/cuda/cuda_dnn.cc:369] Loaded cuDNN version 8005\n"
     ]
    },
    {
     "name": "stdout",
     "output_type": "stream",
     "text": [
      "22/22 [==============================] - 8s 9ms/step - loss: 6.0551 - LaplaceLogLikelihood: 11.5452\n",
      "Epoch 2/100\n",
      "22/22 [==============================] - 0s 5ms/step - loss: 4.2758 - LaplaceLogLikelihood: 8.2410\n",
      "Epoch 3/100\n",
      "22/22 [==============================] - 0s 5ms/step - loss: 4.1895 - LaplaceLogLikelihood: 8.0959\n",
      "Epoch 4/100\n",
      "22/22 [==============================] - 0s 5ms/step - loss: 4.1708 - LaplaceLogLikelihood: 8.0630\n",
      "Epoch 5/100\n",
      "22/22 [==============================] - 0s 5ms/step - loss: 4.1163 - LaplaceLogLikelihood: 7.9796\n",
      "Epoch 6/100\n",
      "22/22 [==============================] - 0s 5ms/step - loss: 4.0923 - LaplaceLogLikelihood: 7.9470\n",
      "Epoch 7/100\n",
      "22/22 [==============================] - 0s 5ms/step - loss: 4.0740 - LaplaceLogLikelihood: 7.9163\n",
      "Epoch 8/100\n",
      "22/22 [==============================] - 0s 5ms/step - loss: 4.0705 - LaplaceLogLikelihood: 7.9141\n",
      "Epoch 9/100\n",
      "22/22 [==============================] - 0s 5ms/step - loss: 4.0270 - LaplaceLogLikelihood: 7.8394\n",
      "Epoch 10/100\n",
      "22/22 [==============================] - 0s 5ms/step - loss: 4.0203 - LaplaceLogLikelihood: 7.8268\n",
      "Epoch 11/100\n",
      "22/22 [==============================] - 0s 5ms/step - loss: 3.9923 - LaplaceLogLikelihood: 7.7793\n",
      "Epoch 12/100\n",
      "22/22 [==============================] - 0s 5ms/step - loss: 3.9535 - LaplaceLogLikelihood: 7.7111\n",
      "Epoch 13/100\n",
      "22/22 [==============================] - 0s 5ms/step - loss: 3.9403 - LaplaceLogLikelihood: 7.6920\n",
      "Epoch 14/100\n",
      "22/22 [==============================] - 0s 5ms/step - loss: 3.9334 - LaplaceLogLikelihood: 7.6806\n",
      "Epoch 15/100\n",
      "22/22 [==============================] - 0s 5ms/step - loss: 3.9261 - LaplaceLogLikelihood: 7.6687\n",
      "Epoch 16/100\n",
      "22/22 [==============================] - 0s 5ms/step - loss: 3.8970 - LaplaceLogLikelihood: 7.6195\n",
      "Epoch 17/100\n",
      "22/22 [==============================] - 0s 5ms/step - loss: 3.8813 - LaplaceLogLikelihood: 7.5927\n",
      "Epoch 18/100\n",
      "22/22 [==============================] - 0s 5ms/step - loss: 3.8847 - LaplaceLogLikelihood: 7.5972\n",
      "Epoch 19/100\n",
      "22/22 [==============================] - 0s 5ms/step - loss: 3.8575 - LaplaceLogLikelihood: 7.5497\n",
      "Epoch 20/100\n",
      "22/22 [==============================] - 0s 5ms/step - loss: 3.8621 - LaplaceLogLikelihood: 7.5580\n",
      "Epoch 21/100\n",
      "22/22 [==============================] - 0s 5ms/step - loss: 3.8271 - LaplaceLogLikelihood: 7.4967\n",
      "Epoch 22/100\n",
      "22/22 [==============================] - 0s 5ms/step - loss: 3.8418 - LaplaceLogLikelihood: 7.5254\n",
      "Epoch 23/100\n",
      "22/22 [==============================] - 0s 5ms/step - loss: 3.8226 - LaplaceLogLikelihood: 7.4889\n",
      "Epoch 24/100\n",
      "22/22 [==============================] - 0s 5ms/step - loss: 3.7769 - LaplaceLogLikelihood: 7.4085\n",
      "Epoch 25/100\n",
      "22/22 [==============================] - 0s 5ms/step - loss: 3.8204 - LaplaceLogLikelihood: 7.4899\n",
      "Epoch 26/100\n",
      "22/22 [==============================] - 0s 5ms/step - loss: 3.7954 - LaplaceLogLikelihood: 7.4418\n",
      "Epoch 27/100\n",
      "22/22 [==============================] - 0s 5ms/step - loss: 3.7615 - LaplaceLogLikelihood: 7.3830\n",
      "Epoch 28/100\n",
      "22/22 [==============================] - 0s 5ms/step - loss: 3.7753 - LaplaceLogLikelihood: 7.4099\n",
      "Epoch 29/100\n",
      "22/22 [==============================] - 0s 5ms/step - loss: 3.7890 - LaplaceLogLikelihood: 7.4233\n",
      "Epoch 30/100\n",
      "22/22 [==============================] - 0s 5ms/step - loss: 3.7233 - LaplaceLogLikelihood: 7.3116\n",
      "Epoch 31/100\n",
      "22/22 [==============================] - 0s 5ms/step - loss: 3.7852 - LaplaceLogLikelihood: 7.4289\n",
      "Epoch 32/100\n",
      "22/22 [==============================] - 0s 5ms/step - loss: 3.7223 - LaplaceLogLikelihood: 7.3152\n",
      "Epoch 33/100\n",
      "22/22 [==============================] - 0s 5ms/step - loss: 3.8111 - LaplaceLogLikelihood: 7.4768\n",
      "Epoch 34/100\n",
      "22/22 [==============================] - 0s 5ms/step - loss: 3.7074 - LaplaceLogLikelihood: 7.2852\n",
      "Epoch 35/100\n",
      "22/22 [==============================] - 0s 5ms/step - loss: 3.7869 - LaplaceLogLikelihood: 7.4289\n",
      "Epoch 36/100\n",
      "22/22 [==============================] - 0s 5ms/step - loss: 3.7414 - LaplaceLogLikelihood: 7.3494\n",
      "Epoch 37/100\n",
      "22/22 [==============================] - 0s 5ms/step - loss: 3.7007 - LaplaceLogLikelihood: 7.2753\n",
      "Epoch 38/100\n",
      "22/22 [==============================] - 0s 5ms/step - loss: 3.6270 - LaplaceLogLikelihood: 7.1399\n",
      "Epoch 39/100\n",
      "22/22 [==============================] - 0s 5ms/step - loss: 3.6775 - LaplaceLogLikelihood: 7.2341\n",
      "Epoch 40/100\n",
      "22/22 [==============================] - 0s 5ms/step - loss: 3.6188 - LaplaceLogLikelihood: 7.1245\n",
      "Epoch 41/100\n",
      "22/22 [==============================] - 0s 5ms/step - loss: 3.6265 - LaplaceLogLikelihood: 7.1379\n",
      "Epoch 42/100\n",
      "22/22 [==============================] - 0s 6ms/step - loss: 3.6385 - LaplaceLogLikelihood: 7.1608\n",
      "Epoch 43/100\n",
      "22/22 [==============================] - 0s 5ms/step - loss: 3.6142 - LaplaceLogLikelihood: 7.1174\n",
      "Epoch 44/100\n",
      "22/22 [==============================] - 0s 5ms/step - loss: 3.6665 - LaplaceLogLikelihood: 7.2122\n",
      "Epoch 45/100\n",
      "22/22 [==============================] - 0s 5ms/step - loss: 3.6075 - LaplaceLogLikelihood: 7.1063\n",
      "Epoch 46/100\n",
      "22/22 [==============================] - 0s 6ms/step - loss: 3.6530 - LaplaceLogLikelihood: 7.1888\n",
      "Epoch 47/100\n",
      "22/22 [==============================] - 0s 5ms/step - loss: 3.6214 - LaplaceLogLikelihood: 7.1335\n",
      "Epoch 48/100\n",
      "22/22 [==============================] - 0s 6ms/step - loss: 3.5434 - LaplaceLogLikelihood: 6.9864\n",
      "Epoch 49/100\n",
      "22/22 [==============================] - 0s 9ms/step - loss: 3.5618 - LaplaceLogLikelihood: 7.0211\n",
      "Epoch 50/100\n",
      "22/22 [==============================] - 0s 7ms/step - loss: 3.6009 - LaplaceLogLikelihood: 7.0929\n",
      "Epoch 51/100\n",
      "22/22 [==============================] - 0s 7ms/step - loss: 3.5784 - LaplaceLogLikelihood: 7.0540\n",
      "Epoch 52/100\n",
      "22/22 [==============================] - 0s 7ms/step - loss: 3.5824 - LaplaceLogLikelihood: 7.0599\n",
      "Epoch 53/100\n",
      "22/22 [==============================] - 0s 6ms/step - loss: 3.5535 - LaplaceLogLikelihood: 7.0073\n",
      "Epoch 54/100\n",
      "22/22 [==============================] - 0s 5ms/step - loss: 3.5253 - LaplaceLogLikelihood: 6.9547\n",
      "Epoch 55/100\n",
      "22/22 [==============================] - 0s 6ms/step - loss: 3.5228 - LaplaceLogLikelihood: 6.9478\n",
      "Epoch 56/100\n",
      "22/22 [==============================] - 0s 5ms/step - loss: 3.5259 - LaplaceLogLikelihood: 6.9572\n",
      "Epoch 57/100\n",
      "22/22 [==============================] - 0s 5ms/step - loss: 3.6177 - LaplaceLogLikelihood: 7.1270\n",
      "Epoch 58/100\n",
      "22/22 [==============================] - 0s 5ms/step - loss: 3.5305 - LaplaceLogLikelihood: 6.9627\n",
      "Epoch 59/100\n",
      "22/22 [==============================] - 0s 6ms/step - loss: 3.5133 - LaplaceLogLikelihood: 6.9326\n",
      "Epoch 60/100\n",
      "22/22 [==============================] - 0s 5ms/step - loss: 3.6035 - LaplaceLogLikelihood: 7.0999\n",
      "Epoch 61/100\n",
      "22/22 [==============================] - 0s 5ms/step - loss: 3.5315 - LaplaceLogLikelihood: 6.9678\n",
      "Epoch 62/100\n",
      "22/22 [==============================] - 0s 5ms/step - loss: 3.5474 - LaplaceLogLikelihood: 6.9991\n",
      "Epoch 63/100\n",
      "22/22 [==============================] - 0s 5ms/step - loss: 3.5260 - LaplaceLogLikelihood: 6.9621\n",
      "Epoch 64/100\n",
      "22/22 [==============================] - 0s 5ms/step - loss: 3.4681 - LaplaceLogLikelihood: 6.8495\n",
      "Epoch 65/100\n",
      "22/22 [==============================] - 0s 5ms/step - loss: 3.4473 - LaplaceLogLikelihood: 6.8092\n",
      "Epoch 66/100\n",
      "22/22 [==============================] - 0s 5ms/step - loss: 3.5059 - LaplaceLogLikelihood: 6.9212\n",
      "Epoch 67/100\n",
      "22/22 [==============================] - 0s 6ms/step - loss: 3.4770 - LaplaceLogLikelihood: 6.8651\n",
      "Epoch 68/100\n",
      "22/22 [==============================] - 0s 5ms/step - loss: 3.4696 - LaplaceLogLikelihood: 6.8548\n",
      "Epoch 69/100\n",
      "22/22 [==============================] - 0s 5ms/step - loss: 3.5573 - LaplaceLogLikelihood: 7.0184\n",
      "Epoch 70/100\n",
      "22/22 [==============================] - 0s 5ms/step - loss: 3.4645 - LaplaceLogLikelihood: 6.8462\n",
      "Epoch 71/100\n",
      "22/22 [==============================] - 0s 5ms/step - loss: 3.4336 - LaplaceLogLikelihood: 6.7885\n",
      "Epoch 72/100\n",
      "22/22 [==============================] - 0s 5ms/step - loss: 3.4532 - LaplaceLogLikelihood: 6.8251\n",
      "Epoch 73/100\n",
      "22/22 [==============================] - 0s 5ms/step - loss: 3.4025 - LaplaceLogLikelihood: 6.7267\n",
      "Epoch 74/100\n",
      "22/22 [==============================] - 0s 5ms/step - loss: 3.5082 - LaplaceLogLikelihood: 6.9285\n",
      "Epoch 75/100\n",
      "22/22 [==============================] - 0s 5ms/step - loss: 3.4589 - LaplaceLogLikelihood: 6.8344\n",
      "Epoch 76/100\n",
      "22/22 [==============================] - 0s 5ms/step - loss: 3.4377 - LaplaceLogLikelihood: 6.7974\n",
      "Epoch 77/100\n",
      "22/22 [==============================] - 0s 5ms/step - loss: 3.3591 - LaplaceLogLikelihood: 6.6469\n",
      "Epoch 78/100\n",
      "22/22 [==============================] - 0s 5ms/step - loss: 3.3870 - LaplaceLogLikelihood: 6.6979\n",
      "Epoch 79/100\n",
      "22/22 [==============================] - 0s 5ms/step - loss: 3.3976 - LaplaceLogLikelihood: 6.7187\n",
      "Epoch 80/100\n",
      "22/22 [==============================] - 0s 5ms/step - loss: 3.4903 - LaplaceLogLikelihood: 6.8961\n",
      "Epoch 81/100\n",
      "22/22 [==============================] - 0s 5ms/step - loss: 3.4173 - LaplaceLogLikelihood: 6.7560\n",
      "Epoch 82/100\n",
      "22/22 [==============================] - 0s 5ms/step - loss: 3.4004 - LaplaceLogLikelihood: 6.7260\n",
      "Epoch 83/100\n",
      "22/22 [==============================] - 0s 5ms/step - loss: 3.3407 - LaplaceLogLikelihood: 6.6118\n",
      "Epoch 84/100\n",
      "22/22 [==============================] - 0s 5ms/step - loss: 3.3827 - LaplaceLogLikelihood: 6.6933\n",
      "Epoch 85/100\n",
      "22/22 [==============================] - 0s 5ms/step - loss: 3.3870 - LaplaceLogLikelihood: 6.7024\n",
      "Epoch 86/100\n",
      "22/22 [==============================] - 0s 5ms/step - loss: 3.3302 - LaplaceLogLikelihood: 6.5940\n",
      "Epoch 87/100\n",
      "22/22 [==============================] - 0s 5ms/step - loss: 3.4043 - LaplaceLogLikelihood: 6.7368\n",
      "Epoch 88/100\n",
      "22/22 [==============================] - 0s 5ms/step - loss: 3.3337 - LaplaceLogLikelihood: 6.6049\n",
      "Epoch 89/100\n",
      "22/22 [==============================] - 0s 5ms/step - loss: 3.4019 - LaplaceLogLikelihood: 6.7309\n",
      "Epoch 90/100\n",
      "22/22 [==============================] - 0s 5ms/step - loss: 3.3916 - LaplaceLogLikelihood: 6.7131\n",
      "Epoch 91/100\n",
      "22/22 [==============================] - 0s 5ms/step - loss: 3.3189 - LaplaceLogLikelihood: 6.5732\n",
      "Epoch 92/100\n",
      "22/22 [==============================] - 0s 5ms/step - loss: 3.3268 - LaplaceLogLikelihood: 6.5892\n",
      "Epoch 93/100\n",
      "22/22 [==============================] - 0s 5ms/step - loss: 3.2650 - LaplaceLogLikelihood: 6.4701\n",
      "Epoch 94/100\n",
      "22/22 [==============================] - 0s 5ms/step - loss: 3.2612 - LaplaceLogLikelihood: 6.4656\n",
      "Epoch 95/100\n",
      "22/22 [==============================] - 0s 5ms/step - loss: 3.2890 - LaplaceLogLikelihood: 6.5171\n",
      "Epoch 96/100\n",
      "22/22 [==============================] - 0s 5ms/step - loss: 3.4667 - LaplaceLogLikelihood: 6.8566\n",
      "Epoch 97/100\n",
      "22/22 [==============================] - 0s 5ms/step - loss: 3.2694 - LaplaceLogLikelihood: 6.4811\n",
      "Epoch 98/100\n",
      "22/22 [==============================] - 0s 5ms/step - loss: 3.3094 - LaplaceLogLikelihood: 6.5579\n",
      "Epoch 99/100\n",
      "22/22 [==============================] - 0s 5ms/step - loss: 3.4062 - LaplaceLogLikelihood: 6.7426\n",
      "Epoch 100/100\n",
      "22/22 [==============================] - 0s 5ms/step - loss: 3.3836 - LaplaceLogLikelihood: 6.6985\n"
     ]
    },
    {
     "data": {
      "text/plain": [
       "<keras.callbacks.History at 0x7fe85c2234d0>"
      ]
     },
     "execution_count": 34,
     "metadata": {},
     "output_type": "execute_result"
    }
   ],
   "source": [
    "net_1D.fit([train_img_scaled, features], target, batch_size=50, epochs=100) "
   ]
  },
  {
   "cell_type": "markdown",
   "id": "d6baefdd",
   "metadata": {
    "papermill": {
     "duration": 0.131541,
     "end_time": "2022-07-27T13:57:12.138815",
     "exception": false,
     "start_time": "2022-07-27T13:57:12.007274",
     "status": "completed"
    },
    "tags": []
   },
   "source": [
    "<font size='5'>**Save the model and weights**</font>"
   ]
  },
  {
   "cell_type": "code",
   "execution_count": 35,
   "id": "e44aa4cc",
   "metadata": {
    "execution": {
     "iopub.execute_input": "2022-07-27T13:57:12.414932Z",
     "iopub.status.busy": "2022-07-27T13:57:12.414104Z",
     "iopub.status.idle": "2022-07-27T13:57:12.454244Z",
     "shell.execute_reply": "2022-07-27T13:57:12.453817Z",
     "shell.execute_reply.started": "2022-07-27T13:11:20.604942Z"
    },
    "papermill": {
     "duration": 0.184572,
     "end_time": "2022-07-27T13:57:12.454352",
     "exception": false,
     "start_time": "2022-07-27T13:57:12.269780",
     "status": "completed"
    },
    "tags": []
   },
   "outputs": [],
   "source": [
    "net_1D.save('cnn_final.h5')"
   ]
  },
  {
   "cell_type": "markdown",
   "id": "1c652e7f",
   "metadata": {
    "papermill": {
     "duration": 0.132092,
     "end_time": "2022-07-27T13:57:12.717006",
     "exception": false,
     "start_time": "2022-07-27T13:57:12.584914",
     "status": "completed"
    },
    "tags": []
   },
   "source": [
    "<font size='5'>**Prediction using model**</font>"
   ]
  },
  {
   "cell_type": "code",
   "execution_count": 36,
   "id": "949a9760",
   "metadata": {
    "execution": {
     "iopub.execute_input": "2022-07-27T13:57:12.988198Z",
     "iopub.status.busy": "2022-07-27T13:57:12.987154Z",
     "iopub.status.idle": "2022-07-27T13:57:13.419050Z",
     "shell.execute_reply": "2022-07-27T13:57:13.419532Z",
     "shell.execute_reply.started": "2022-07-27T13:12:30.012158Z"
    },
    "papermill": {
     "duration": 0.569484,
     "end_time": "2022-07-27T13:57:13.419689",
     "exception": false,
     "start_time": "2022-07-27T13:57:12.850205",
     "status": "completed"
    },
    "tags": []
   },
   "outputs": [
    {
     "name": "stdout",
     "output_type": "stream",
     "text": [
      "11/11 [==============================] - 0s 8ms/step\n"
     ]
    }
   ],
   "source": [
    "predict_1D=net_1D.predict([train_img_scaled, features], batch_size=100, verbose=1)"
   ]
  },
  {
   "cell_type": "markdown",
   "id": "b6ab4247",
   "metadata": {
    "papermill": {
     "duration": 0.134092,
     "end_time": "2022-07-27T13:57:13.690291",
     "exception": false,
     "start_time": "2022-07-27T13:57:13.556199",
     "status": "completed"
    },
    "tags": []
   },
   "source": [
    "<font size='5'>**Evaluation**</font>"
   ]
  },
  {
   "cell_type": "code",
   "execution_count": 37,
   "id": "38f30eef",
   "metadata": {
    "execution": {
     "iopub.execute_input": "2022-07-27T13:57:13.963349Z",
     "iopub.status.busy": "2022-07-27T13:57:13.962418Z",
     "iopub.status.idle": "2022-07-27T13:57:13.968437Z",
     "shell.execute_reply": "2022-07-27T13:57:13.968848Z",
     "shell.execute_reply.started": "2022-07-27T13:12:36.431204Z"
    },
    "papermill": {
     "duration": 0.14463,
     "end_time": "2022-07-27T13:57:13.968985",
     "exception": false,
     "start_time": "2022-07-27T13:57:13.824355",
     "status": "completed"
    },
    "tags": []
   },
   "outputs": [
    {
     "data": {
      "text/plain": [
       "-6.182938"
      ]
     },
     "execution_count": 37,
     "metadata": {},
     "output_type": "execute_result"
    }
   ],
   "source": [
    "## evaluation metric function\n",
    "def laplace_log_likelihood(actual_fvc, predicted_fvc, confidence, return_values = False):\n",
    "    \"\"\"\n",
    "    Calculates the modified Laplace Log Likelihood score for this competition.\n",
    "    \"\"\"\n",
    "    sd_clipped = np.maximum(confidence, 70)\n",
    "    delta = np.minimum(np.abs(actual_fvc - predicted_fvc), 1000)\n",
    "    metric = - np.sqrt(2) * delta / sd_clipped - np.log(np.sqrt(2) * sd_clipped)\n",
    "\n",
    "    if return_values:\n",
    "        return metric\n",
    "    else:\n",
    "        return np.mean(metric)\n",
    "\n",
    "\n",
    "## default benchmark\n",
    "laplace_log_likelihood(target, predict_1D[:,0],predict_1D[:,1])"
   ]
  }
 ],
 "metadata": {
  "kernelspec": {
   "display_name": "Python 3",
   "language": "python",
   "name": "python3"
  },
  "language_info": {
   "codemirror_mode": {
    "name": "ipython",
    "version": 3
   },
   "file_extension": ".py",
   "mimetype": "text/x-python",
   "name": "python",
   "nbconvert_exporter": "python",
   "pygments_lexer": "ipython3",
   "version": "3.7.12"
  },
  "papermill": {
   "default_parameters": {},
   "duration": 77.539553,
   "end_time": "2022-07-27T13:57:17.792545",
   "environment_variables": {},
   "exception": null,
   "input_path": "__notebook__.ipynb",
   "output_path": "__notebook__.ipynb",
   "parameters": {},
   "start_time": "2022-07-27T13:56:00.252992",
   "version": "2.3.3"
  }
 },
 "nbformat": 4,
 "nbformat_minor": 5
}
